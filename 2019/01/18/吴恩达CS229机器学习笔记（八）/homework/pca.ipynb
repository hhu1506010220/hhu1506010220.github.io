{
 "cells": [
  {
   "cell_type": "code",
   "execution_count": 1,
   "metadata": {},
   "outputs": [
    {
     "name": "stdout",
     "output_type": "stream",
     "text": [
      "[[3.38156267 3.38911268]\n",
      " [4.52787538 5.8541781 ]\n",
      " [2.65568187 4.41199472]\n",
      " [2.76523467 3.71541365]\n",
      " [2.84656011 4.17550645]\n",
      " [3.89067196 6.48838087]\n",
      " [3.47580524 3.63284876]\n",
      " [5.91129845 6.68076853]\n",
      " [3.92889397 5.09844661]\n",
      " [4.56183537 5.62329929]\n",
      " [4.57407171 5.39765069]\n",
      " [4.37173356 5.46116549]\n",
      " [4.19169388 4.95469359]\n",
      " [5.24408518 4.66148767]\n",
      " [2.8358402  3.76801716]\n",
      " [5.63526969 6.31211438]\n",
      " [4.68632968 5.6652411 ]\n",
      " [2.85051337 4.62645627]\n",
      " [5.1101573  7.36319662]\n",
      " [5.18256377 4.64650909]\n",
      " [5.70732809 6.68103995]\n",
      " [3.57968458 4.80278074]\n",
      " [5.63937773 6.12043594]\n",
      " [4.26346851 4.68942896]\n",
      " [2.53651693 3.88449078]\n",
      " [3.22382902 4.94255585]\n",
      " [4.92948801 5.95501971]\n",
      " [5.79295774 5.10839305]\n",
      " [2.81684824 4.81895769]\n",
      " [3.88882414 5.10036564]\n",
      " [3.34323419 5.89301345]\n",
      " [5.87973414 5.52141664]\n",
      " [3.10391912 3.85710242]\n",
      " [5.33150572 4.68074235]\n",
      " [3.37542687 4.56537852]\n",
      " [4.77667888 6.25435039]\n",
      " [2.6757463  3.73096988]\n",
      " [5.50027665 5.67948113]\n",
      " [1.79709714 3.24753885]\n",
      " [4.3225147  5.11110472]\n",
      " [4.42100445 6.02563978]\n",
      " [3.17929886 4.43686032]\n",
      " [3.03354125 3.97879278]\n",
      " [4.6093482  5.879792  ]\n",
      " [2.96378859 3.30024835]\n",
      " [3.97176248 5.40773735]\n",
      " [1.18023321 2.87869409]\n",
      " [1.91895045 5.07107848]\n",
      " [3.95524687 4.5053271 ]\n",
      " [5.11795499 6.08507386]]\n"
     ]
    }
   ],
   "source": [
    "#本文是pca降维\n",
    "#load data\n",
    "import scipy.io as sio\n",
    "import numpy as np\n",
    "import matplotlib.pyplot as plt\n",
    "\n",
    "# 加载数据\n",
    "data = sio.loadmat('ex7data1.mat')\n",
    "X = data['X']\n",
    "print(X)"
   ]
  },
  {
   "cell_type": "code",
   "execution_count": 2,
   "metadata": {},
   "outputs": [
    {
     "data": {
      "image/png": "[encoded data removed]",
      "text/plain": [
       "<Figure size 432x288 with 1 Axes>"
      ]
     },
     "metadata": {
      "needs_background": "light"
     },
     "output_type": "display_data"
    }
   ],
   "source": [
    "plt.scatter(X[:, 0], X[:, 1], marker='x', color='r')\n",
    "plt.xlabel('X1')\n",
    "plt.ylabel('X2')\n",
    "plt.show()"
   ]
  },
  {
   "cell_type": "code",
   "execution_count": 3,
   "metadata": {},
   "outputs": [],
   "source": [
    "#feature normalize 特征归一化\n",
    "def featureNormalize(X):\n",
    "    X_norm = X\n",
    "    mu = np.zeros((1,X.shape[1]))\n",
    "    sigma = np.zeros((1,X.shape[1]))\n",
    "    \n",
    "    mu = np.mean(X,axis=0) #mean value of every feature\n",
    "    sigma = np.std(X,axis=0)#std of every feature\n",
    "    X_norm = (X - mu) / sigma\n",
    "    \n",
    "    return X_norm,mu,sigma "
   ]
  },
  {
   "cell_type": "code",
   "execution_count": 4,
   "metadata": {},
   "outputs": [],
   "source": [
    "# complete the pca\n",
    "def pca(data_normal):\n",
    "    m, n = data_normal.shape\n",
    "    sigma = data_normal.T.dot(data_normal) / m  # np.cov()\n",
    "    U, S, V = np.linalg.svd(sigma)  # np.linalg.eig()\n",
    "    return U, S, V"
   ]
  },
  {
   "cell_type": "code",
   "execution_count": 5,
   "metadata": {},
   "outputs": [],
   "source": [
    "# 降维2->1\n",
    "def projectData(x, u, k):\n",
    "    z = np.zeros((x.shape[0], k))\n",
    "    u_reduce = u[:, :k]  # get the first k line\n",
    "    z = x.dot(u_reduce)  # [m,n]*[n,k] = [m,k]\n",
    "    return z"
   ]
  },
  {
   "cell_type": "code",
   "execution_count": 6,
   "metadata": {},
   "outputs": [],
   "source": [
    "# 还原 1-->2\n",
    "def recoverData(z, u, k):\n",
    "    x_rec = np.zeros((z.shape[0], u.shape[0]))\n",
    "    u_reduce = u[:, :k]\n",
    "    x_rec = z.dot(u_reduce.T)  # [m,k]*[k,n] = [m,n]\n",
    "    return x_rec"
   ]
  },
  {
   "cell_type": "code",
   "execution_count": 7,
   "metadata": {},
   "outputs": [
    {
     "name": "stdout",
     "output_type": "stream",
     "text": [
      "[[-0.70710678 -0.70710678]\n",
      " [-0.70710678  0.70710678]] [1.73553038 0.26446962] [[-0.70710678 -0.70710678]\n",
      " [-0.70710678  0.70710678]]\n"
     ]
    }
   ],
   "source": [
    "X_norm, mu, sigma = featureNormalize(X)\n",
    "U, S, V = pca(X_norm)\n",
    "print(U, S, V)   "
   ]
  },
  {
   "cell_type": "code",
   "execution_count": 8,
   "metadata": {},
   "outputs": [
    {
     "name": "stdout",
     "output_type": "stream",
     "text": [
      "(50, 1)\n",
      "(50, 2)\n"
     ]
    }
   ],
   "source": [
    "Z = projectData(X_norm, U, k=1)  # n-->k\n",
    "print(Z.shape)\n",
    "X_rec = recoverData(Z, U, k=1)  # get back k--->n\n",
    "print(X_rec.shape)"
   ]
  },
  {
   "cell_type": "code",
   "execution_count": 9,
   "metadata": {},
   "outputs": [
    {
     "data": {
      "image/png": "[encoded data removed]",
      "text/plain": [
       "<Figure size 432x288 with 1 Axes>"
      ]
     },
     "metadata": {
      "needs_background": "light"
     },
     "output_type": "display_data"
    }
   ],
   "source": [
    "# 可视化一下\n",
    "plt.plot(X_norm[:, 0], X_norm[:, 1], 'bo')\n",
    "plt.plot(X_rec[:, 0], X_rec[:, 1], 'rx')\n",
    "plt.xlabel('x1')\n",
    "plt.ylabel('x2')\n",
    "plt.show()"
   ]
  }
 ],
 "metadata": {
  "kernelspec": {
   "display_name": "Python 3",
   "language": "python",
   "name": "python3"
  },
  "language_info": {
   "codemirror_mode": {
    "name": "ipython",
    "version": 3
   },
   "file_extension": ".py",
   "mimetype": "text/x-python",
   "name": "python",
   "nbconvert_exporter": "python",
   "pygments_lexer": "ipython3",
   "version": "3.6.7"
  }
 },
 "nbformat": 4,
 "nbformat_minor": 1
}
