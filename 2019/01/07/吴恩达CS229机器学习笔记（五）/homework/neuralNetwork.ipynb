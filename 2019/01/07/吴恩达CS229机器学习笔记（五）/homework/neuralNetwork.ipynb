{
 "cells": [
  {
   "cell_type": "code",
   "execution_count": 1,
   "metadata": {},
   "outputs": [
    {
     "name": "stdout",
     "output_type": "stream",
     "text": [
      "dict_keys(['data', 'target', 'target_names', 'images', 'DESCR'])\n",
      "(1797, 64)\n",
      "(1797,)\n",
      "[ 0.  5. 12. 13. 16. 16.  2.  0.  0. 11. 16. 15.  8.  4.  0.  0.  0.  8.\n",
      " 14. 11.  1.  0.  0.  0.  0.  8. 16. 16. 14.  0.  0.  0.  0.  1.  6.  6.\n",
      " 16.  0.  0.  0.  0.  0.  0.  5. 16.  3.  0.  0.  0.  1.  5. 15. 13.  0.\n",
      "  0.  0.  0.  4. 15. 16.  2.  0.  0.  0.]\n",
      "the images 15 is 5\n"
     ]
    },
    {
     "data": {
      "text/plain": [
       "<Figure size 640x480 with 0 Axes>"
      ]
     },
     "metadata": {},
     "output_type": "display_data"
    },
    {
     "data": {
      "text/plain": [
       "<Figure size 480x480 with 1 Axes>"
      ]
     },
     "metadata": {},
     "output_type": "display_data"
    }
   ],
   "source": [
    "#本文是神经网络算法，实现手写字体识别\n",
    "#load the datasets\n",
    "from sklearn.datasets import load_digits\n",
    "import numpy as np\n",
    "import matplotlib.pyplot as plt\n",
    "\n",
    "digits = load_digits()\n",
    "print(digits.keys())\n",
    "data = digits.data\n",
    "target = digits.target\n",
    "\n",
    "print(data.shape)\n",
    "print(target.shape)\n",
    "print(data[15])\n",
    "print(\"the images 15 is\",target[15])\n",
    "plt.gray()\n",
    "plt.matshow(digits.images[15])\n",
    "plt.show()\n",
    "\n"
   ]
  },
  {
   "cell_type": "code",
   "execution_count": 2,
   "metadata": {},
   "outputs": [
    {
     "data": {
      "image/png": "[encoded data removed]",
      "text/plain": [
       "<Figure size 432x288 with 10 Axes>"
      ]
     },
     "metadata": {
      "needs_background": "light"
     },
     "output_type": "display_data"
    }
   ],
   "source": [
    "#随机选出每一类的一个样本看看长什么样子\n",
    "classes = ['0', '1', '2', '3', '4', '5', '6', '7', '8', '9']\n",
    "num_classes = len(classes)\n",
    "samples_per_class = 1\n",
    "for y, cla in enumerate(classes):\n",
    "    idxs = np.flatnonzero(target == y)\n",
    "    idxs = np.random.choice(idxs, samples_per_class, replace=False)\n",
    "    for i, idx in enumerate(idxs):\n",
    "        plt_idx = i * num_classes + y + 1\n",
    "        plt.subplot(samples_per_class, num_classes, plt_idx)\n",
    "        plt.imshow(digits.images[idx].astype('uint8'))\n",
    "        plt.axis('off')\n",
    "        if i == 0:\n",
    "            plt.title(cla)\n",
    "plt.show()"
   ]
  },
  {
   "cell_type": "code",
   "execution_count": 3,
   "metadata": {},
   "outputs": [],
   "source": [
    "#这里我整理成了一个class\n",
    "#implement the neural network\n",
    "def sigmoid(x):\n",
    "    return 1/(1+np.exp(-x))\n",
    "#sigmoid的倒数函数\n",
    "def dsigmoid(x):\n",
    "    return x*(1-x)\n",
    "\n",
    "class NeuralNetwork(object):\n",
    "    def __init__(self,input_size,hidden_size,output_size):\n",
    "        #小数随机初始化参数，不能全0，打破对称性\n",
    "        self.W1 = 0.01 * np.random.randn(input_size,hidden_size)#D*H\n",
    "        self.b1 = np.zeros(hidden_size) #H ,(参数b=0没有关系)\n",
    "        self.W2 = 0.01 * np.random.randn(hidden_size,output_size)#H*C\n",
    "        self.b2 = np.zeros(output_size)#C\n",
    "    \n",
    "    def loss(self,X,y,reg = 0.01):\n",
    "        num_train, num_feature = X.shape\n",
    "        #forward前向传播\n",
    "        a1 = X  #input layer:N*D\n",
    "        a2 = sigmoid(a1.dot(self.W1) + self.b1) #hidden layer:N*H\n",
    "        a3 = sigmoid(a2.dot(self.W2) + self.b2) #output layer:N*C\n",
    "        \n",
    "        loss = - np.sum(y*np.log(a3) + (1-y)*np.log((1-a3)))/num_train\n",
    "        loss += 0.5 * reg * (np.sum(self.W1*self.W1)+np.sum(self.W2*self.W2)) / num_train\n",
    "        \n",
    "        #backward,后向传播过程\n",
    "        error3 = a3 - y #N*C\n",
    "        dW2 = a2.T.dot(error3) + reg * self.W2#(H*N)*(N*C)=H*C\n",
    "        db2 = np.sum(error3,axis=0)\n",
    "        \n",
    "        error2 = error3.dot(self.W2.T)*dsigmoid(a2) #N*H\n",
    "        dW1 = a1.T.dot(error2) + reg * self.W1     #(D*N)*(N*H) =D*H\n",
    "        db1 = np.sum(error2,axis=0)\n",
    "        \n",
    "        dW1 /= num_train\n",
    "        dW2 /= num_train\n",
    "        db1 /= num_train\n",
    "        db2 /= num_train\n",
    "        \n",
    "        return loss,dW1,dW2,db1,db2\n",
    "    #训练过程,并且没500次，统计一下train_acc和val_acc\n",
    "    def train(self,X,y,y_train,X_val,y_val,learn_rate=0.01,num_iters = 10000):\n",
    "        batch_size = 150\n",
    "        num_train = X.shape[0]\n",
    "        loss_list = []\n",
    "        accuracy_train = []\n",
    "        accuracy_val = []\n",
    "        \n",
    "        for i in range(num_iters):\n",
    "            #每次随机的选取小样本batch set去训练\n",
    "            batch_index = np.random.choice(num_train,batch_size,replace=True)\n",
    "            X_batch = X[batch_index]\n",
    "            y_batch = y[batch_index]\n",
    "            y_train_batch = y_train[batch_index]\n",
    "            \n",
    "            loss,dW1,dW2,db1,db2 = self.loss(X_batch,y_batch)\n",
    "            loss_list.append(loss)\n",
    "            \n",
    "            #update the weight\n",
    "            self.W1 += -learn_rate*dW1\n",
    "            self.W2 += -learn_rate*dW2\n",
    "            self.b1 += -learn_rate*db1\n",
    "            self.b2 += -learn_rate*db2\n",
    "            \n",
    "            if i%500 == 0:\n",
    "                print(\"i=%d,loss=%f\" %(i,loss))\n",
    "                #record the train accuracy and validation accuracy\n",
    "                train_acc = np.mean(y_train_batch==self.predict(X_batch))\n",
    "                val_acc = np.mean(y_val==self.predict(X_val))\n",
    "                accuracy_train.append(train_acc)\n",
    "                accuracy_val.append(val_acc)\n",
    "                \n",
    "        return loss_list,accuracy_train,accuracy_val\n",
    "    #预测一下，多分类的预测，取得最大值的下标为分类结果\n",
    "    def predict(self,X_test):\n",
    "        a2 = sigmoid(X_test.dot(self.W1) + self.b1)\n",
    "        a3 = sigmoid(a2.dot(self.W2) + self.b2)\n",
    "        y_pred = np.argmax(a3,axis=1)\n",
    "        return y_pred          \n",
    "    pass"
   ]
  },
  {
   "cell_type": "code",
   "execution_count": 4,
   "metadata": {},
   "outputs": [
    {
     "name": "stdout",
     "output_type": "stream",
     "text": [
      "W1 max relative error: 1.812071e-08\n",
      "W2 max relative error: 3.958838e-10\n",
      "b1 max relative error: 7.817713e-08\n",
      "b2 max relative error: 5.888433e-11\n"
     ]
    }
   ],
   "source": [
    "from sklearn.preprocessing import LabelBinarizer\n",
    "#定义一下数值梯度，用于梯度检查\n",
    "def eval_numerical_gradient(f, x, verbose=True, h=0.00001):\n",
    "    \"\"\" \n",
    "    a naive implementation of numerical gradient of f at x \n",
    "    - f should be a function that takes a single argument\n",
    "    - x is the point (numpy array) to evaluate the gradient at\n",
    "    \"\"\" \n",
    "    \n",
    "    fx = f(x) # evaluate function value at original point\n",
    "    grad = np.zeros_like(x)\n",
    "    # iterate over all indexes in x\n",
    "    it = np.nditer(x, flags=['multi_index'], op_flags=['readwrite'])\n",
    "    while not it.finished:\n",
    "        \n",
    "        # evaluate function at x+h\n",
    "        ix = it.multi_index\n",
    "        oldval = x[ix]\n",
    "        x[ix] = oldval + h # increment by h\n",
    "        fxph = f(x) # evalute f(x + h)\n",
    "        x[ix] = oldval - h\n",
    "        fxmh = f(x) # evaluate f(x - h)\n",
    "        x[ix] = oldval # restore\n",
    "        \n",
    "        # compute the partial derivative with centered formula\n",
    "        grad[ix] = (fxph - fxmh) / (2 * h) # the slope\n",
    "        if verbose:\n",
    "          print(ix, grad[ix])\n",
    "        it.iternext() # step to next dimension\n",
    "    return grad\n",
    "#定义一下比较函数，用于两个梯度的对比\n",
    "def rel_error(x, y):\n",
    "  \"\"\" returns relative error \"\"\"\n",
    "  return np.max(np.abs(x - y) / (np.maximum(1e-8, np.abs(x) + np.abs(y))))\n",
    "#模拟一个小网络，进行梯度检查，这样的话，可以判断模型正确性\n",
    "input_size = 4\n",
    "hidden_size = 10\n",
    "output_size = 3\n",
    "num_train = 5\n",
    "\n",
    "def init_toy_model():\n",
    "  np.random.seed(0)\n",
    "  return NeuralNetwork(input_size, hidden_size, output_size)\n",
    "\n",
    "def init_toy_data():\n",
    "  np.random.seed(1)\n",
    "  XX = 10 * np.random.randn(num_train, input_size)\n",
    "  yy = np.array([0, 1, 2, 2, 1])\n",
    "  return XX, yy\n",
    "\n",
    "net = init_toy_model()\n",
    "XX, yy = init_toy_data()\n",
    "yy_label = LabelBinarizer().fit_transform(yy)\n",
    "\n",
    "loss,dW1,dW2,db1,db2 = net.loss(XX,yy_label)\n",
    "f = lambda W: net.loss(XX, yy_label)[0] #f(w) = loss\n",
    "dW1_ = eval_numerical_gradient(f,net.W1,verbose=False)\n",
    "dW2_ = eval_numerical_gradient(f,net.W2,verbose=False)\n",
    "db1_ = eval_numerical_gradient(f,net.b1,verbose=False)\n",
    "db2_ = eval_numerical_gradient(f,net.b2,verbose=False)\n",
    "\n",
    "print('%s max relative error: %e' % ('W1', rel_error(dW1, dW1_)))\n",
    "print('%s max relative error: %e' % ('W2', rel_error(dW2, dW2_)))\n",
    "print('%s max relative error: %e' % ('b1', rel_error(db1, db1_)))\n",
    "print('%s max relative error: %e' % ('b2', rel_error(db2, db2_)))"
   ]
  },
  {
   "cell_type": "code",
   "execution_count": 5,
   "metadata": {},
   "outputs": [
    {
     "name": "stdout",
     "output_type": "stream",
     "text": [
      "(1000, 64) (436, 64) (360, 64)\n",
      "start\n",
      "i=0,loss=7.060120\n",
      "i=500,loss=2.020329\n",
      "i=1000,loss=1.208715\n",
      "i=1500,loss=0.711440\n",
      "i=2000,loss=0.608078\n",
      "i=2500,loss=0.493830\n",
      "i=3000,loss=0.404080\n",
      "i=3500,loss=0.328199\n",
      "i=4000,loss=0.307644\n",
      "i=4500,loss=0.224095\n",
      "i=5000,loss=0.224976\n",
      "i=5500,loss=0.211779\n",
      "i=6000,loss=0.183015\n",
      "i=6500,loss=0.188465\n",
      "i=7000,loss=0.179562\n",
      "i=7500,loss=0.165125\n",
      "i=8000,loss=0.164741\n",
      "i=8500,loss=0.112698\n",
      "i=9000,loss=0.127080\n",
      "i=9500,loss=0.113350\n",
      "end\n"
     ]
    }
   ],
   "source": [
    "from sklearn.model_selection import train_test_split\n",
    "from sklearn.preprocessing import LabelBinarizer\n",
    "X = data\n",
    "y = target\n",
    "#normalized 数据集合0均值化\n",
    "X_mean = np.mean(X,axis=0)\n",
    "X -= X_mean\n",
    "#分隔数据集合，分为train，val,test集合\n",
    "X_data,X_test,y_data,y_test = train_test_split(X,y,test_size=0.2)\n",
    "#split the train and tne validation\n",
    "X_train = X_data[0:1000]\n",
    "y_train = y_data[0:1000]\n",
    "X_val = X_data[1000:-1]\n",
    "y_val = y_data[1000:-1]\n",
    "\n",
    "print(X_train.shape,X_val.shape,X_test.shape)\n",
    "#进行标签二值化，1-->[0,1,0,0,0,0,0,0,0,0]   5=[0,0,0,0,0,1,0,0,0,0]\n",
    "y_train_label = LabelBinarizer().fit_transform(y_train)\n",
    "\n",
    "classify = NeuralNetwork(X.shape[1],100,10)\n",
    "#数据准备完毕，开始训练\n",
    "print('start')\n",
    "loss_list,accuracy_train,accuracy_val = classify.train(X_train,y_train_label,y_train,X_val,y_val)\n",
    "print('end')"
   ]
  },
  {
   "cell_type": "code",
   "execution_count": 6,
   "metadata": {},
   "outputs": [
    {
     "data": {
      "image/png": "[encoded data removed]",
      "text/plain": [
       "<Figure size 432x288 with 2 Axes>"
      ]
     },
     "metadata": {
      "needs_background": "light"
     },
     "output_type": "display_data"
    }
   ],
   "source": [
    "#可视化一下训练结果\n",
    "import matplotlib.pyplot as plt\n",
    "\n",
    "plt.subplot(211)\n",
    "plt.plot(loss_list)\n",
    "plt.title('train loss')\n",
    "plt.xlabel('iters')\n",
    "plt.ylabel('loss')\n",
    "\n",
    "plt.subplot(212)\n",
    "plt.plot(accuracy_train,label = 'train_acc',color = 'red')\n",
    "plt.plot(accuracy_val,label = 'val_acc', color = 'black')\n",
    "plt.xlabel('iters')\n",
    "plt.ylabel('accuracy')\n",
    "plt.legend(loc = 'lower right')\n",
    "\n",
    "plt.show()\n"
   ]
  },
  {
   "cell_type": "code",
   "execution_count": 7,
   "metadata": {},
   "outputs": [
    {
     "name": "stdout",
     "output_type": "stream",
     "text": [
      "the accuracy is  0.9666666666666667\n"
     ]
    }
   ],
   "source": [
    "#预测一下，并且看看正确率\n",
    "y_pred = classify.predict(X_test)\n",
    "accuracy = np.mean(y_pred == y_test)\n",
    "print(\"the accuracy is \",accuracy)"
   ]
  },
  {
   "cell_type": "code",
   "execution_count": 8,
   "metadata": {},
   "outputs": [
    {
     "name": "stdout",
     "output_type": "stream",
     "text": [
      "[ 879 1544 1654 1692 1209 1647 1723  831  207  928]\n",
      "0 example is number 3,we predict it as 3\n",
      "1 example is number 8,we predict it as 8\n",
      "2 example is number 2,we predict it as 2\n",
      "3 example is number 5,we predict it as 5\n",
      "4 example is number 7,we predict it as 7\n",
      "5 example is number 6,we predict it as 6\n",
      "6 example is number 1,we predict it as 1\n",
      "7 example is number 0,we predict it as 0\n",
      "8 example is number 2,we predict it as 2\n",
      "9 example is number 3,we predict it as 3\n"
     ]
    }
   ],
   "source": [
    "#随机挑选样本，看看预测结果\n",
    "m,n = data.shape\n",
    "example_size = 10\n",
    "example_index = np.random.choice(m,example_size)\n",
    "print(example_index)\n",
    "for i, idx in enumerate(example_index):\n",
    "    print(\"%d example is number %d,we predict it as %d\"\\\n",
    "          %(i,target[idx],classify.predict(X[idx,:].reshape(1,-1))))"
   ]
  },
  {
   "cell_type": "code",
   "execution_count": null,
   "metadata": {},
   "outputs": [],
   "source": []
  }
 ],
 "metadata": {
  "kernelspec": {
   "display_name": "Python 3",
   "language": "python",
   "name": "python3"
  },
  "language_info": {
   "codemirror_mode": {
    "name": "ipython",
    "version": 3
   },
   "file_extension": ".py",
   "mimetype": "text/x-python",
   "name": "python",
   "nbconvert_exporter": "python",
   "pygments_lexer": "ipython3",
   "version": "3.6.7"
  }
 },
 "nbformat": 4,
 "nbformat_minor": 1
}
