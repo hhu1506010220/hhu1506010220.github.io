{
 "cells": [
  {
   "cell_type": "code",
   "execution_count": 1,
   "metadata": {},
   "outputs": [
    {
     "name": "stdout",
     "output_type": "stream",
     "text": [
      "dict_keys(['data', 'target', 'target_names', 'images', 'DESCR'])\n",
      "(1797, 64)\n",
      "(1797,)\n",
      "the images 15 is 5\n"
     ]
    }
   ],
   "source": [
    "#本文是onevsall多分类器的实现\n",
    "#load the datasets 导入手写字体数据集\n",
    "from sklearn.datasets import load_digits\n",
    "import numpy as np\n",
    "import matplotlib.pyplot as plt\n",
    "\n",
    "digits = load_digits()\n",
    "print(digits.keys())\n",
    "data = digits.data\n",
    "target = digits.target\n",
    "\n",
    "print(data.shape)\n",
    "print(target.shape)\n",
    "print(\"the images 15 is\",target[15])"
   ]
  },
  {
   "cell_type": "code",
   "execution_count": 2,
   "metadata": {},
   "outputs": [
    {
     "data": {
      "image/png": "[encoded data removed]",
      "text/plain": [
       "<Figure size 432x288 with 50 Axes>"
      ]
     },
     "metadata": {
      "needs_background": "light"
     },
     "output_type": "display_data"
    }
   ],
   "source": [
    "#Randomly select 50 data points to display\n",
    "classes = ['0', '1', '2', '3', '4', '5', '6', '7', '8', '9']\n",
    "num_classes = len(classes)\n",
    "samples_per_class = 5\n",
    "for y, cla in enumerate(classes):\n",
    "    idxs = np.flatnonzero(target == y)\n",
    "    idxs = np.random.choice(idxs, samples_per_class, replace=False)\n",
    "    for i, idx in enumerate(idxs):\n",
    "        plt_idx = i * num_classes + y + 1\n",
    "        plt.subplot(samples_per_class, num_classes, plt_idx)\n",
    "        plt.imshow(digits.images[idx].astype('uint8'))\n",
    "        plt.axis('off')\n",
    "        if i == 0:\n",
    "            plt.title(cla)\n",
    "plt.show()"
   ]
  },
  {
   "cell_type": "code",
   "execution_count": 3,
   "metadata": {},
   "outputs": [],
   "source": [
    "#regularized logistic,基本跟正则化用于逻辑回归原理一样，只是为了使用\n",
    "#优化算法，我稍微改写了cost函数和gradient函数,分别为f(),gradf()\n",
    "def sigmoid(x):\n",
    "    return 1 / (1+np.exp(-x))\n",
    "def out(x,w):\n",
    "    return sigmoid(np.dot(x,w))\n",
    "\n",
    "def f(params,*args):\n",
    "    X_train,y_train,reg = args\n",
    "    m,n = X_train.shape\n",
    "    J = 0\n",
    "    theta = params.reshape((n,1))\n",
    "    h = out(X_train,theta)\n",
    "    theta_1 = theta[1:,:]\n",
    "    J = -1*np.sum(y_train*np.log(h) + (1-y_train)*np.log((1-h))) / m +\\\n",
    "        + 0.5 * reg * theta_1.T.dot(theta_1) / m\n",
    "    return J\n",
    "\n",
    "def gradf(params,*args):\n",
    "    X_train,y_train,reg = args\n",
    "    m,n = X_train.shape\n",
    "    theta = params.reshape(-1,1)\n",
    "    h = out(X_train,theta)\n",
    "    grad = np.zeros((X_train.shape[1],1))\n",
    "    theta_1 = theta[1:,:]\n",
    "    grad = X_train.T.dot((h-y_train)) / m\n",
    "    grad[1:,:] += reg*theta_1/m  #theta0 without reg\n",
    "    g = grad.ravel()\n",
    "    return g  \n",
    "    "
   ]
  },
  {
   "cell_type": "code",
   "execution_count": 4,
   "metadata": {},
   "outputs": [
    {
     "name": "stdout",
     "output_type": "stream",
     "text": [
      "Optimization terminated successfully.\n",
      "         Current function value: 0.000847\n",
      "         Iterations: 197\n",
      "         Function evaluations: 588\n",
      "         Gradient evaluations: 588\n",
      "Warning: Maximum number of iterations has been exceeded.\n",
      "         Current function value: 0.016415\n",
      "         Iterations: 500\n",
      "         Function evaluations: 779\n",
      "         Gradient evaluations: 779\n",
      "Optimization terminated successfully.\n",
      "         Current function value: 0.001304\n",
      "         Iterations: 228\n",
      "         Function evaluations: 652\n",
      "         Gradient evaluations: 652\n",
      "Warning: Maximum number of iterations has been exceeded.\n",
      "         Current function value: 0.014488\n",
      "         Iterations: 500\n",
      "         Function evaluations: 949\n",
      "         Gradient evaluations: 949\n",
      "Optimization terminated successfully.\n",
      "         Current function value: 0.001749\n",
      "         Iterations: 391\n",
      "         Function evaluations: 1073\n",
      "         Gradient evaluations: 1073\n",
      "Optimization terminated successfully.\n",
      "         Current function value: 0.003441\n",
      "         Iterations: 373\n",
      "         Function evaluations: 950\n",
      "         Gradient evaluations: 950\n",
      "Optimization terminated successfully.\n",
      "         Current function value: 0.002321\n",
      "         Iterations: 477\n",
      "         Function evaluations: 1200\n",
      "         Gradient evaluations: 1200\n",
      "Optimization terminated successfully.\n",
      "         Current function value: 0.002954\n",
      "         Iterations: 478\n",
      "         Function evaluations: 1156\n",
      "         Gradient evaluations: 1156\n",
      "Optimization terminated successfully.\n",
      "         Current function value: 0.068729\n",
      "         Iterations: 456\n",
      "         Function evaluations: 671\n",
      "         Gradient evaluations: 671\n",
      "Warning: Maximum number of iterations has been exceeded.\n",
      "         Current function value: 0.018654\n",
      "         Iterations: 500\n",
      "         Function evaluations: 833\n",
      "         Gradient evaluations: 833\n",
      "(65, 10)\n"
     ]
    }
   ],
   "source": [
    "from scipy import optimize\n",
    "def oneVsAll(x,y,num_class,reg):\n",
    "    m,n = x.shape\n",
    "    thetas = np.zeros((n,num_class))\n",
    "    #每次只训练一个分类器，就相当于，y==i时，是1，其他等于0\n",
    "    for i in range(num_class):\n",
    "        params = np.zeros((x.shape[1],1)).ravel()\n",
    "        args = (x,y==i,reg)\n",
    "        #使用优化算法去训练\n",
    "        res = optimize.fmin_cg(f,x0=params,fprime=gradf,args=args,maxiter=500)\n",
    "        thetas[:,i] = res\n",
    "    return thetas\n",
    "\n",
    "X = data\n",
    "y = target\n",
    "y = y.reshape((-1,1))\n",
    "#normalized\n",
    "X_mean = np.mean(X,axis=0)\n",
    "X -= X_mean\n",
    "m = X.shape[0]\n",
    "X = np.hstack((np.ones((m,1)),X)) #add the one\n",
    "\n",
    "thetas = oneVsAll(X,y,10,1.0)\n",
    "print(thetas.shape)\n"
   ]
  },
  {
   "cell_type": "code",
   "execution_count": 5,
   "metadata": {},
   "outputs": [
    {
     "name": "stdout",
     "output_type": "stream",
     "text": [
      "train accuracy is : 0.9977740678909294\n"
     ]
    }
   ],
   "source": [
    "def predict(x,thetas):\n",
    "    h = out(x,thetas)\n",
    "    a = sigmoid(h)\n",
    "    pred = np.argmax(a,axis=1) #选出数值最大的下标最为分类\n",
    "    return pred\n",
    "y_pred = predict(X,thetas)\n",
    "print(\"train accuracy is :\",np.mean(y.ravel() == y_pred))\n",
    "\n",
    "    "
   ]
  },
  {
   "cell_type": "code",
   "execution_count": 6,
   "metadata": {},
   "outputs": [
    {
     "name": "stdout",
     "output_type": "stream",
     "text": [
      "[1548 1213 1664 1146 1647 1463  593   54 1774  788]\n",
      "0 example is number 3,we predict it as 3\n",
      "1 example is number 1,we predict it as 1\n",
      "2 example is number 8,we predict it as 8\n",
      "3 example is number 9,we predict it as 9\n",
      "4 example is number 6,we predict it as 6\n",
      "5 example is number 0,we predict it as 0\n",
      "6 example is number 2,we predict it as 2\n",
      "7 example is number 2,we predict it as 2\n",
      "8 example is number 1,we predict it as 1\n",
      "9 example is number 2,we predict it as 2\n"
     ]
    }
   ],
   "source": [
    "#随机选出几个图片，测试一下，当然，还是在train set上面测试,展示一下训练的效果\n",
    "m,n = data.shape\n",
    "example_size = 10\n",
    "example_index = np.random.choice(m,example_size)\n",
    "print(example_index)\n",
    "for i, idx in enumerate(example_index):\n",
    "    print(\"%d example is number %d,we predict it as %d\"\\\n",
    "          %(i,target[idx],predict(X[idx,:].reshape(1,-1),thetas)))"
   ]
  },
  {
   "cell_type": "code",
   "execution_count": 7,
   "metadata": {},
   "outputs": [
    {
     "name": "stdout",
     "output_type": "stream",
     "text": [
      "(25, 401)\n",
      "(10, 26)\n",
      "(5000, 400)\n",
      "(5000, 1)\n"
     ]
    }
   ],
   "source": [
    "#好吧，我们导入已经有的数据集和权重参数，看一下神经网络的oneVSall预测函数\n",
    "import scipy.io as sio\n",
    "#从mat文件导入数据\n",
    "weight = sio.loadmat(\"ex3weights\")\n",
    "Theta1 = weight[\"Theta1\"]\n",
    "Theta2 = weight[\"Theta2\"]\n",
    "\n",
    "print(Theta1.shape)\n",
    "print(Theta2.shape)\n",
    "\n",
    "data = sio.loadmat(\"ex3data1\")\n",
    "X = data[\"X\"]\n",
    "y = data[\"y\"]\n",
    "print(X.shape)\n",
    "print(y.shape)"
   ]
  },
  {
   "cell_type": "code",
   "execution_count": 8,
   "metadata": {},
   "outputs": [
    {
     "name": "stdout",
     "output_type": "stream",
     "text": [
      "(5000, 401)\n",
      "[3 9 9 9 9 9 9 9 9 9]\n",
      "[[9]\n",
      " [9]\n",
      " [9]\n",
      " [9]\n",
      " [9]\n",
      " [9]\n",
      " [9]\n",
      " [9]\n",
      " [9]\n",
      " [9]]\n",
      "train accuracy is : 97.52\n"
     ]
    }
   ],
   "source": [
    "#add one \n",
    "m = X.shape[0]\n",
    "X1 = np.hstack((np.ones((m,1)),X))\n",
    "print(X1.shape)\n",
    "def nn_predict(x,theta1,theta2):\n",
    "    m = x.shape[0]\n",
    "    a1 = sigmoid(x.dot(theta1.T))\n",
    "    a1 = np.hstack((np.ones((m,1)),a1))\n",
    "    a2 = sigmoid(a1.dot(theta2.T))\n",
    "    pred = np.argmax(a2,axis=1)+1 #这里的数字是1-10，而不是0-9\n",
    "    return pred\n",
    "\n",
    "pred = nn_predict(X1,Theta1,Theta2)\n",
    "print(pred[-10:])\n",
    "print(y[-10:])\n",
    "print(\"train accuracy is :\",np.mean(y == pred.reshape(-1,1))*100)"
   ]
  },
  {
   "cell_type": "code",
   "execution_count": 9,
   "metadata": {},
   "outputs": [
    {
     "name": "stdout",
     "output_type": "stream",
     "text": [
      "[ 926 2550 1815 3950 1934 3552 1779  825 4737 2602]\n",
      "0 example is number 1,we predict it as 1\n",
      "1 example is number 5,we predict it as 5\n",
      "2 example is number 3,we predict it as 3\n",
      "3 example is number 7,we predict it as 7\n",
      "4 example is number 3,we predict it as 3\n",
      "5 example is number 7,we predict it as 7\n",
      "6 example is number 3,we predict it as 3\n",
      "7 example is number 1,we predict it as 1\n",
      "8 example is number 9,we predict it as 9\n",
      "9 example is number 5,we predict it as 5\n"
     ]
    }
   ],
   "source": [
    "#随机选择样本，测试一下，看看预测的准不准\n",
    "m,n = X1.shape\n",
    "example_size = 10\n",
    "example_index = np.random.choice(m,example_size)\n",
    "print(example_index)\n",
    "for i, idx in enumerate(example_index):\n",
    "    print(\"%d example is number %d,we predict it as %d\"\\\n",
    "          %(i,y[idx],nn_predict(X1[idx,:].reshape(1,-1),Theta1,Theta2)))"
   ]
  },
  {
   "cell_type": "code",
   "execution_count": null,
   "metadata": {},
   "outputs": [],
   "source": []
  }
 ],
 "metadata": {
  "kernelspec": {
   "display_name": "Python 3",
   "language": "python",
   "name": "python3"
  },
  "language_info": {
   "codemirror_mode": {
    "name": "ipython",
    "version": 3
   },
   "file_extension": ".py",
   "mimetype": "text/x-python",
   "name": "python",
   "nbconvert_exporter": "python",
   "pygments_lexer": "ipython3",
   "version": "3.6.7"
  }
 },
 "nbformat": 4,
 "nbformat_minor": 1
}
