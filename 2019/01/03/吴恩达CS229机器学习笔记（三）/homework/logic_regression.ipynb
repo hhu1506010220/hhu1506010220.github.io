{
 "cells": [
  {
   "cell_type": "code",
   "execution_count": 1,
   "metadata": {},
   "outputs": [],
   "source": [
    "#本文是逻辑回归算法实现\n",
    "import numpy as np\n",
    "import matplotlib.pyplot as plt\n",
    "\n",
    "#load data from file导入txt数据\n",
    "def load_data(filename):\n",
    "    data = []\n",
    "    file = open(filename)\n",
    "    for line in file.readlines():\n",
    "        lineArr = line.strip().split(',')\n",
    "        col_num = len(lineArr)\n",
    "        temp = []\n",
    "        for i in range(col_num):\n",
    "            temp.append(float(lineArr[i]))\n",
    "        data.append(temp)\n",
    "\n",
    "    return np.array(data)"
   ]
  },
  {
   "cell_type": "code",
   "execution_count": 2,
   "metadata": {},
   "outputs": [],
   "source": [
    "# 可视化训练集\n",
    "def draw_data(data):\n",
    "    X = data[:,:-1]\n",
    "    Y = data[:,-1:]\n",
    "    data_0 = np.where(Y.ravel()==0)\n",
    "    data_1 = np.where(Y.ravel()==1)\n",
    "    plt.scatter(X[data_0,0],X[data_0,1],marker='o',color='y',label='Not Admitted')\n",
    "    plt.scatter(X[data_1,0],X[data_1,1],marker='+',color='black',label='Admitted')\n",
    "    plt.xlabel('score1')\n",
    "    plt.ylabel('score2')\n",
    "    plt.legend()\n",
    "    plt.show()\n",
    "    \n",
    "#可视化线性的决策边界\n",
    "def draw_result(X,Y):\n",
    "    label = np.array(Y)\n",
    "    index_0 = np.where(label.ravel()==0)\n",
    "    plt.scatter(X[index_0,1],X[index_0,2],marker='x',color = 'b',label = 'Not admitted',s = 15)\n",
    "    index_1 =np.where(label.ravel()==1)\n",
    "    plt.scatter(X[index_1,1],X[index_1,2],marker='o',color = 'r',label = 'Admitted',s = 15)\n",
    "    #show the decision boundary\n",
    "    x1 = np.arange(20,100,0.5)\n",
    "    x2 = (- res[0] - res[1]*x1) / res[2]\n",
    "    plt.plot(x1,x2,color = 'black')\n",
    "    plt.xlabel('X1')\n",
    "    plt.ylabel('X2')\n",
    "    plt.legend(loc = 'upper left')\n",
    "    plt.show()"
   ]
  },
  {
   "cell_type": "code",
   "execution_count": 3,
   "metadata": {},
   "outputs": [],
   "source": [
    "def sigmoid(Z):\n",
    "    return 1/(1+np.exp(-Z))\n",
    "\n",
    "def h(theta,X):\n",
    "    return sigmoid(X.dot(theta))\n",
    "\n",
    "# 计算梯度\n",
    "def gradient(theta, X, Y):\n",
    "    m, n = X.shape\n",
    "    theta = theta.reshape(-1,1)  # 在使用了reshape（-1，1）之后，数据变成了一列\n",
    "    H = h(theta,X)\n",
    "    grad = np.zeros((X.shape[1], 1))\n",
    "    grad = X.T.dot((H - Y)) / m\n",
    "    g = grad.ravel()\n",
    "    return g\n",
    "\n",
    "# 计算代价函数\n",
    "def cost_function(theta,X,Y):\n",
    "    m = X.shape[0]\n",
    "    theta = theta.reshape(-1,1)  # 不加这一语句就不对\n",
    "    # '*'代表点乘 .dot是矩阵相乘\n",
    "    return (np.sum((-Y*(np.log(h(theta,X))))-(1-Y)*(np.log(1-h(theta,X)))))/m"
   ]
  },
  {
   "cell_type": "code",
   "execution_count": 4,
   "metadata": {},
   "outputs": [
    {
     "data": {
      "image/png": "[encoded data removed]",
      "text/plain": [
       "<Figure size 432x288 with 1 Axes>"
      ]
     },
     "metadata": {
      "needs_background": "light"
     },
     "output_type": "display_data"
    },
    {
     "name": "stdout",
     "output_type": "stream",
     "text": [
      "0.6931471805599453 [ -0.1        -12.00921659 -11.26284221]\n"
     ]
    }
   ],
   "source": [
    "data = load_data('ex2data1.txt')\n",
    "draw_data(data)\n",
    "\n",
    "X = data[:,:-1]\n",
    "X = np.hstack((np.ones((X.shape[0],1)),X)) #加一列\n",
    "m = X.shape[0]   # 行数\n",
    "Y = data[:,-1:]\n",
    "theta = np.zeros((X.shape[1],1))\n",
    "print(cost_function(theta,X,Y),gradient(theta, X, Y))"
   ]
  },
  {
   "cell_type": "code",
   "execution_count": 5,
   "metadata": {},
   "outputs": [
    {
     "name": "stdout",
     "output_type": "stream",
     "text": [
      "Optimization terminated successfully.\n",
      "         Current function value: 0.203498\n",
      "         Iterations: 50\n",
      "         Function evaluations: 120\n",
      "         Gradient evaluations: 120\n",
      "[-25.16134333   0.2062318    0.20147167]\n"
     ]
    },
    {
     "name": "stderr",
     "output_type": "stream",
     "text": [
      "f:\\python\\lib\\site-packages\\ipykernel_launcher.py:22: RuntimeWarning: divide by zero encountered in log\n",
      "f:\\python\\lib\\site-packages\\ipykernel_launcher.py:22: RuntimeWarning: invalid value encountered in multiply\n"
     ]
    }
   ],
   "source": [
    "# 使用optimize函数，自动计算\n",
    "from scipy import optimize\n",
    "# 使用 BFGS\n",
    "# res = optimize.minimize(cost_function,x0=theta,args=(X,Y),method='BFGS',jac=gradient,options={'gtol': 1e-6, 'disp': True})\n",
    "# 使用梯度下降\n",
    "res = optimize.fmin_cg(cost_function,x0=theta,fprime=gradient,args=(X,Y)) # cost个gradient的第一个参数必须是theta\n",
    "print(res) # 第一个值返回的是最优的theta数组"
   ]
  },
  {
   "cell_type": "code",
   "execution_count": 6,
   "metadata": {},
   "outputs": [
    {
     "data": {
      "image/png": "[encoded data removed]",
      "text/plain": [
       "<Figure size 432x288 with 1 Axes>"
      ]
     },
     "metadata": {
      "needs_background": "light"
     },
     "output_type": "display_data"
    }
   ],
   "source": [
    "# 可视化决策边界\n",
    "draw_result(X,Y)"
   ]
  },
  {
   "cell_type": "code",
   "execution_count": 7,
   "metadata": {},
   "outputs": [
    {
     "name": "stdout",
     "output_type": "stream",
     "text": [
      "[[5.1 1.4]\n",
      " [4.9 1.4]\n",
      " [4.7 1.3]\n",
      " [4.6 1.5]\n",
      " [5.  1.4]]\n",
      "[1 1 1 1 1]\n"
     ]
    },
    {
     "data": {
      "image/png": "[encoded data removed]",
      "text/plain": [
       "<Figure size 432x288 with 1 Axes>"
      ]
     },
     "metadata": {
      "needs_background": "light"
     },
     "output_type": "display_data"
    }
   ],
   "source": [
    "# 后续可以用iris数据集去测试\n",
    "from sklearn.datasets import load_iris\n",
    "import matplotlib.pyplot as plt\n",
    "import numpy as np\n",
    "\n",
    "iris = load_iris()\n",
    "data = iris.data\n",
    "target = iris.target\n",
    "\n",
    "X = data[0:100,[0,2]]\n",
    "y = target[0:100]\n",
    "print(X[:5])\n",
    "print(y[-5:])\n",
    "label = np.array(y)\n",
    "index_0 = np.where(label.ravel()==0)\n",
    "plt.scatter(X[index_0,0],X[index_0,1],marker='x',color = 'b',label = '0',s = 15)\n",
    "index_1 =np.where(label.ravel()==1)\n",
    "plt.scatter(X[index_1,0],X[index_1,1],marker='o',color = 'r',label = '1',s = 15)\n",
    "\n",
    "plt.xlabel('X1')\n",
    "plt.ylabel('X2')\n",
    "plt.legend(loc = 'upper left')\n",
    "plt.show()\n",
    "\n"
   ]
  }
 ],
 "metadata": {
  "kernelspec": {
   "display_name": "Python 3",
   "language": "python",
   "name": "python3"
  },
  "language_info": {
   "codemirror_mode": {
    "name": "ipython",
    "version": 3
   },
   "file_extension": ".py",
   "mimetype": "text/x-python",
   "name": "python",
   "nbconvert_exporter": "python",
   "pygments_lexer": "ipython3",
   "version": "3.6.7"
  }
 },
 "nbformat": 4,
 "nbformat_minor": 1
}
