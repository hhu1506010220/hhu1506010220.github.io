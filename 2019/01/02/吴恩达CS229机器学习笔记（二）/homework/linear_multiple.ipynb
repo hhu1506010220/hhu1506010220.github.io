{
 "cells": [
  {
   "cell_type": "code",
   "execution_count": 1,
   "metadata": {},
   "outputs": [],
   "source": [
    "#本文是多元线性回归模型\n",
    "import numpy as np\n",
    "import matplotlib.pyplot as plt\n",
    "\n",
    "#load data from file\n",
    "#导入数据，并且观察一下\n",
    "def load_data(filename):\n",
    "    data = []\n",
    "    file = open(filename)\n",
    "    for line in file.readlines():\n",
    "        lineArr = line.strip().split(',')\n",
    "        col_num = len(lineArr)\n",
    "        temp = []\n",
    "        for i in range(col_num):\n",
    "            temp.append(float(lineArr[i]))\n",
    "        data.append(temp)\n",
    "\n",
    "    return np.array(data)"
   ]
  },
  {
   "cell_type": "code",
   "execution_count": 2,
   "metadata": {},
   "outputs": [],
   "source": [
    "#feature normalize,Scale features and set them to zero mean\n",
    "#定义一下特征缩放函数，因为每个特征的取值范围不同，且差异很大\n",
    "def featureNormalize(X):\n",
    "    avg = np.mean(X, axis=0)  # 均值\n",
    "    sigma = np.std(X, axis=0)  # 标准差\n",
    "    X_norm = (X - avg) / sigma\n",
    "    return X_norm, avg, sigma"
   ]
  },
  {
   "cell_type": "code",
   "execution_count": 3,
   "metadata": {},
   "outputs": [],
   "source": [
    "#plot the j_cost,绘制训练的cost曲线,可以调节学习率\n",
    "def draw_cost(J_history):\n",
    "    plt.plot(J_history,color = 'g')\n",
    "    plt.xlabel('iters')\n",
    "    plt.ylabel('J_cost')\n",
    "    plt.title('cost variety')\n",
    "    plt.show()"
   ]
  },
  {
   "cell_type": "code",
   "execution_count": 4,
   "metadata": {},
   "outputs": [],
   "source": [
    "# 预测函数\n",
    "def h(theta,X):\n",
    "    return X.dot(theta)\n",
    "\n",
    "# 代价函数\n",
    "def cost_function(theta,X,Y):\n",
    "    m = X.shape[0]\n",
    "    result = np.sum(np.square(h(theta,X)-Y))/(2*m)\n",
    "    return result\n",
    "\n",
    "# 梯度下降\n",
    "def gradient_descent(theta,X,Y,alpha,iterate_times):\n",
    "    J_history = []\n",
    "    m = X.shape[0]\n",
    "    for i in range(iterate_times):\n",
    "        theta = theta - alpha * X.T .dot(h(theta,X)-Y) / m\n",
    "        cost = cost_function(theta, X, Y)\n",
    "        J_history.append(cost)\n",
    "    return theta, J_history"
   ]
  },
  {
   "cell_type": "code",
   "execution_count": 5,
   "metadata": {},
   "outputs": [
    {
     "data": {
      "image/png": "[encoded data removed]",
      "text/plain": [
       "<Figure size 432x288 with 1 Axes>"
      ]
     },
     "metadata": {
      "needs_background": "light"
     },
     "output_type": "display_data"
    }
   ],
   "source": [
    "#predict (Note :normalize the feature with the train sets)\n",
    "#预测一下，记得使用训练集的均值和方差去进行特征缩放\n",
    "data = load_data('ex1data2.txt')\n",
    "X = data[:,:-1]\n",
    "X ,avr ,sigma = featureNormalize(X)\n",
    "Y = data[:,-1:]\n",
    "m = X.shape[0]\n",
    "X = np.hstack((np.ones((m,1)),X))  # 加一列\n",
    "theta = np.zeros((X.shape[1],1))\n",
    "alpha = 0.01\n",
    "iterate_times = 1000\n",
    "\n",
    "theta,J_history = gradient_descent(theta,X,Y,alpha,iterate_times)\n",
    "draw_cost(J_history)"
   ]
  },
  {
   "cell_type": "code",
   "execution_count": 6,
   "metadata": {},
   "outputs": [
    {
     "name": "stdout",
     "output_type": "stream",
     "text": [
      "(47, 3)\n",
      "(47, 1)\n",
      "Theta computed from the normal equations:\n",
      "[[89597.90954355]\n",
      " [  139.21067402]\n",
      " [-8738.01911255]]\n"
     ]
    }
   ],
   "source": [
    "#compute the gradient by using Normal Equations  \n",
    "#without feature scaling and gradient descent\n",
    "#直接使用公式求解最佳theta,不用梯度下降法\n",
    "XX = data[:,:-1]\n",
    "yy = data[:,-1:]\n",
    "m = XX.shape[0]\n",
    "\n",
    "one = np.ones((m,1))\n",
    "XX = np.hstack((one,data[:,:-1]))\n",
    "print(XX.shape)\n",
    "print(yy.shape)\n",
    "\n",
    "def normalEquation(X_train,y_train):\n",
    "    w = np.zeros((X_train.shape[0],1))\n",
    "    w = ((np.linalg.pinv(X_train.T.dot(X_train))).dot(X_train.T)).dot(y_train)\n",
    "    return w\n",
    "w = normalEquation(XX,yy)\n",
    "print('Theta computed from the normal equations:')\n",
    "print(w)"
   ]
  },
  {
   "cell_type": "code",
   "execution_count": 7,
   "metadata": {},
   "outputs": [
    {
     "name": "stdout",
     "output_type": "stream",
     "text": [
      "Predicted price of a 1650 sq-ft, 3 br house (using normal equations)\n",
      "[[293081.46433497]]\n"
     ]
    }
   ],
   "source": [
    "#predict price\n",
    "price = np.dot(np.array([[1,1650,3]]),w)\n",
    "print('Predicted price of a 1650 sq-ft, 3 br house (using normal equations)')\n",
    "print(price)"
   ]
  },
  {
   "cell_type": "code",
   "execution_count": null,
   "metadata": {},
   "outputs": [],
   "source": []
  }
 ],
 "metadata": {
  "kernelspec": {
   "display_name": "Python 3",
   "language": "python",
   "name": "python3"
  },
  "language_info": {
   "codemirror_mode": {
    "name": "ipython",
    "version": 3
   },
   "file_extension": ".py",
   "mimetype": "text/x-python",
   "name": "python",
   "nbconvert_exporter": "python",
   "pygments_lexer": "ipython3",
   "version": "3.6.7"
  }
 },
 "nbformat": 4,
 "nbformat_minor": 1
}
